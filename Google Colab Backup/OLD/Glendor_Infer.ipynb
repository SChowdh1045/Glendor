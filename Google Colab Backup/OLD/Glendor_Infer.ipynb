{
  "cells": [
    {
      "cell_type": "code",
      "execution_count": null,
      "metadata": {
        "colab": {
          "base_uri": "https://localhost:8080/"
        },
        "collapsed": true,
        "id": "_ofjwtcQHHYJ",
        "outputId": "e7113f05-90c5-44ca-9932-5b7500b2fcb6"
      },
      "outputs": [],
      "source": [
        "# Install required packages\n",
        "!pip install ultralytics supervision"
      ]
    },
    {
      "cell_type": "code",
      "execution_count": 15,
      "metadata": {
        "id": "jLu0DIZ4ItvB"
      },
      "outputs": [],
      "source": [
        "# Import libraries\n",
        "import cv2\n",
        "from ultralytics import YOLO\n",
        "import supervision as sv\n",
        "import time\n",
        "import torch\n",
        "from google.colab import drive\n",
        "import os\n",
        "from tqdm.notebook import tqdm"
      ]
    },
    {
      "cell_type": "code",
      "execution_count": 18,
      "metadata": {
        "colab": {
          "base_uri": "https://localhost:8080/"
        },
        "id": "D6qJDCuHIv0z",
        "outputId": "94f20330-2e0c-4cdd-b6e7-52bc2d4d56fd"
      },
      "outputs": [
        {
          "name": "stdout",
          "output_type": "stream",
          "text": [
            "Mounted at /content/drive\n"
          ]
        }
      ],
      "source": [
        "# Mount Google Drive\n",
        "drive.mount('/content/drive')"
      ]
    },
    {
      "cell_type": "code",
      "execution_count": 19,
      "metadata": {
        "id": "7RegBth9IyKQ"
      },
      "outputs": [],
      "source": [
        "# Set up project directories\n",
        "PROJECT_DIR = '/content/drive/MyDrive/face_detection_project'\n",
        "MODEL_DIR = f'{PROJECT_DIR}/models'\n",
        "VIDEO_DIR = f'{PROJECT_DIR}/videos'\n",
        "OUTPUT_DIR = f'{PROJECT_DIR}/outputs'"
      ]
    },
    {
      "cell_type": "code",
      "execution_count": 20,
      "metadata": {
        "id": "-6nqoP0NQJd3"
      },
      "outputs": [],
      "source": [
        "# Create directories if they don't exist\n",
        "for dir_path in [MODEL_DIR, VIDEO_DIR, OUTPUT_DIR]:\n",
        "    if not os.path.exists(dir_path):\n",
        "        os.makedirs(dir_path)"
      ]
    },
    {
      "cell_type": "code",
      "execution_count": 21,
      "metadata": {
        "colab": {
          "base_uri": "https://localhost:8080/"
        },
        "id": "a6YnZn-1QLtI",
        "outputId": "eaa9cb0f-7f94-4b24-c570-0d875a1199a1"
      },
      "outputs": [
        {
          "name": "stdout",
          "output_type": "stream",
          "text": [
            "Using GPU: True\n"
          ]
        }
      ],
      "source": [
        "# Check for GPU\n",
        "print(\"Using GPU:\", torch.cuda.is_available())\n",
        "device = \"cuda\" if torch.cuda.is_available() else \"cpu\""
      ]
    },
    {
      "cell_type": "code",
      "execution_count": 22,
      "metadata": {
        "id": "Oyp7L9EVGbCD"
      },
      "outputs": [],
      "source": [
        "def detect_people(video_name, model_name):\n",
        "    \"\"\"\n",
        "    Process video with face detection model\n",
        "\n",
        "    Args:\n",
        "        video_name: Name of video file in VIDEO_DIR\n",
        "        model_name: Name of model file in MODEL_DIR\n",
        "    \"\"\"\n",
        "    video_path = os.path.join(VIDEO_DIR, video_name)\n",
        "    model_path = os.path.join(MODEL_DIR, model_name)\n",
        "    output_path = os.path.join(OUTPUT_DIR, f'processed_{video_name}')\n",
        "\n",
        "    # Check if files exist\n",
        "    if not os.path.exists(video_path):\n",
        "        raise FileNotFoundError(f\"Video file not found: {video_path}\")\n",
        "    if not os.path.exists(model_path):\n",
        "        raise FileNotFoundError(f\"Model file not found: {model_path}\")\n",
        "\n",
        "    # Load YOLO model\n",
        "    model = YOLO(model_path).to(device)\n",
        "\n",
        "    # Initialize video capture\n",
        "    cap = cv2.VideoCapture(video_path)\n",
        "\n",
        "    # Get video properties\n",
        "    width = int(cap.get(cv2.CAP_PROP_FRAME_WIDTH))\n",
        "    height = int(cap.get(cv2.CAP_PROP_FRAME_HEIGHT))\n",
        "    fps = int(cap.get(cv2.CAP_PROP_FPS))\n",
        "    total_frames = int(cap.get(cv2.CAP_PROP_FRAME_COUNT))\n",
        "\n",
        "    # Create output video writer\n",
        "    out = cv2.VideoWriter(output_path,\n",
        "                         cv2.VideoWriter_fourcc(*'mp4v'),\n",
        "                         fps,\n",
        "                         (width, height))\n",
        "\n",
        "    # Create BoxAnnotator instance\n",
        "    box_annotator = sv.BoxAnnotator(\n",
        "        color=sv.Color(r=200, g=50, b=200),\n",
        "        thickness=3\n",
        "    )\n",
        "\n",
        "    # Process frames with progress bar\n",
        "    for _ in tqdm(range(total_frames), desc=\"Processing video\"):\n",
        "        ret, frame = cap.read()\n",
        "        if not ret:\n",
        "            break\n",
        "\n",
        "        # Resize frame for processing (but keep original for output)\n",
        "        scale_percent = 40\n",
        "        resized_width = int(width * scale_percent / 100)\n",
        "        resized_height = int(height * scale_percent / 100)\n",
        "        resized_frame = cv2.resize(frame, (resized_width, resized_height))\n",
        "\n",
        "        # Detect people\n",
        "        results = model(resized_frame, classes=[0])[0]\n",
        "\n",
        "        # Convert detections to supervision format\n",
        "        detections = sv.Detections.from_ultralytics(results)\n",
        "\n",
        "        # Scale detections back to original size\n",
        "        if len(detections) > 0:\n",
        "            detections.xyxy = detections.xyxy * (width/resized_width)\n",
        "\n",
        "        # Annotate the original frame\n",
        "        annotated_frame = box_annotator.annotate(\n",
        "            scene=frame,\n",
        "            detections=detections\n",
        "        )\n",
        "\n",
        "        # Add detection count\n",
        "        detection_count = len(detections)\n",
        "        cv2.putText(\n",
        "            annotated_frame,\n",
        "            f\"People detected: {detection_count}\",\n",
        "            (20, 40),\n",
        "            cv2.FONT_HERSHEY_SIMPLEX,\n",
        "            1,\n",
        "            (0, 255, 0),\n",
        "            2\n",
        "        )\n",
        "\n",
        "        # Write frame to output video\n",
        "        out.write(annotated_frame)\n",
        "\n",
        "    # Release resources\n",
        "    cap.release()\n",
        "    out.release()\n",
        "\n",
        "    print(f\"Processing complete! Output saved to: {output_path}\")"
      ]
    },
    {
      "cell_type": "markdown",
      "metadata": {
        "id": "ZZAmUvFkQdZB"
      },
      "source": [
        "## Manually copy model file (best.pt) to /content/drive/MyDrive/face_detection_project/models/\n",
        "\n",
        "## Copy video files to /content/drive/MyDrive/face_detection_project/videos/"
      ]
    },
    {
      "cell_type": "code",
      "execution_count": null,
      "metadata": {
        "colab": {
          "base_uri": "https://localhost:8080/",
          "height": 1000,
          "referenced_widgets": [
            "dcaede0d0e194486a2390922766e2fb1",
            "016a6366e40048ef87a88f7bc9f0dff7",
            "0ce7aa1839914f41b92c6e523b508223",
            "6a54ac0dcfb140eda8dc9571b68ed109",
            "1fe1bd8f31474908804c0933d5ad1570",
            "c2590d5289d342ddbc86a9b5946f7568",
            "4c978b87a52543b992d467285f0a6864",
            "2572d4e464c0498a9623e021e6092670",
            "3e35f5ba3c99420e9ba0fa9f01c852dd",
            "0d5ccdccd8b044c6a6a4d981d7ef4955",
            "823332f6a7884c53b47eeac9cdb8f1a4"
          ]
        },
        "collapsed": true,
        "id": "oU6WcMaUI3Le",
        "outputId": "6ca56808-76f2-4713-d855-20f04730673e"
      },
      "outputs": [],
      "source": [
        "if __name__ == \"__main__\":\n",
        "    # First, manually copy your video and model files to the respective directories in Google Drive (see above)\n",
        "    # Then run:\n",
        "    detect_people(\"4.mp4\", \"best.pt\")"
      ]
    },
    {
      "cell_type": "markdown",
      "metadata": {
        "id": "cwOqsiBWQwxx"
      },
      "source": [
        "## The processed videos will be saved in:  \n",
        "/content/drive/MyDrive/face_detection_project/outputs/"
      ]
    }
  ],
  "metadata": {
    "accelerator": "GPU",
    "colab": {
      "gpuType": "T4",
      "provenance": []
    },
    "kernelspec": {
      "display_name": "Python 3",
      "name": "python3"
    },
    "language_info": {
      "name": "python"
    },
    "widgets": {
      "application/vnd.jupyter.widget-state+json": {
        "016a6366e40048ef87a88f7bc9f0dff7": {
          "model_module": "@jupyter-widgets/controls",
          "model_module_version": "1.5.0",
          "model_name": "HTMLModel",
          "state": {
            "_dom_classes": [],
            "_model_module": "@jupyter-widgets/controls",
            "_model_module_version": "1.5.0",
            "_model_name": "HTMLModel",
            "_view_count": null,
            "_view_module": "@jupyter-widgets/controls",
            "_view_module_version": "1.5.0",
            "_view_name": "HTMLView",
            "description": "",
            "description_tooltip": null,
            "layout": "IPY_MODEL_c2590d5289d342ddbc86a9b5946f7568",
            "placeholder": "​",
            "style": "IPY_MODEL_4c978b87a52543b992d467285f0a6864",
            "value": "Processing video: 100%"
          }
        },
        "0ce7aa1839914f41b92c6e523b508223": {
          "model_module": "@jupyter-widgets/controls",
          "model_module_version": "1.5.0",
          "model_name": "FloatProgressModel",
          "state": {
            "_dom_classes": [],
            "_model_module": "@jupyter-widgets/controls",
            "_model_module_version": "1.5.0",
            "_model_name": "FloatProgressModel",
            "_view_count": null,
            "_view_module": "@jupyter-widgets/controls",
            "_view_module_version": "1.5.0",
            "_view_name": "ProgressView",
            "bar_style": "success",
            "description": "",
            "description_tooltip": null,
            "layout": "IPY_MODEL_2572d4e464c0498a9623e021e6092670",
            "max": 240,
            "min": 0,
            "orientation": "horizontal",
            "style": "IPY_MODEL_3e35f5ba3c99420e9ba0fa9f01c852dd",
            "value": 240
          }
        },
        "0d5ccdccd8b044c6a6a4d981d7ef4955": {
          "model_module": "@jupyter-widgets/base",
          "model_module_version": "1.2.0",
          "model_name": "LayoutModel",
          "state": {
            "_model_module": "@jupyter-widgets/base",
            "_model_module_version": "1.2.0",
            "_model_name": "LayoutModel",
            "_view_count": null,
            "_view_module": "@jupyter-widgets/base",
            "_view_module_version": "1.2.0",
            "_view_name": "LayoutView",
            "align_content": null,
            "align_items": null,
            "align_self": null,
            "border": null,
            "bottom": null,
            "display": null,
            "flex": null,
            "flex_flow": null,
            "grid_area": null,
            "grid_auto_columns": null,
            "grid_auto_flow": null,
            "grid_auto_rows": null,
            "grid_column": null,
            "grid_gap": null,
            "grid_row": null,
            "grid_template_areas": null,
            "grid_template_columns": null,
            "grid_template_rows": null,
            "height": null,
            "justify_content": null,
            "justify_items": null,
            "left": null,
            "margin": null,
            "max_height": null,
            "max_width": null,
            "min_height": null,
            "min_width": null,
            "object_fit": null,
            "object_position": null,
            "order": null,
            "overflow": null,
            "overflow_x": null,
            "overflow_y": null,
            "padding": null,
            "right": null,
            "top": null,
            "visibility": null,
            "width": null
          }
        },
        "1fe1bd8f31474908804c0933d5ad1570": {
          "model_module": "@jupyter-widgets/base",
          "model_module_version": "1.2.0",
          "model_name": "LayoutModel",
          "state": {
            "_model_module": "@jupyter-widgets/base",
            "_model_module_version": "1.2.0",
            "_model_name": "LayoutModel",
            "_view_count": null,
            "_view_module": "@jupyter-widgets/base",
            "_view_module_version": "1.2.0",
            "_view_name": "LayoutView",
            "align_content": null,
            "align_items": null,
            "align_self": null,
            "border": null,
            "bottom": null,
            "display": null,
            "flex": null,
            "flex_flow": null,
            "grid_area": null,
            "grid_auto_columns": null,
            "grid_auto_flow": null,
            "grid_auto_rows": null,
            "grid_column": null,
            "grid_gap": null,
            "grid_row": null,
            "grid_template_areas": null,
            "grid_template_columns": null,
            "grid_template_rows": null,
            "height": null,
            "justify_content": null,
            "justify_items": null,
            "left": null,
            "margin": null,
            "max_height": null,
            "max_width": null,
            "min_height": null,
            "min_width": null,
            "object_fit": null,
            "object_position": null,
            "order": null,
            "overflow": null,
            "overflow_x": null,
            "overflow_y": null,
            "padding": null,
            "right": null,
            "top": null,
            "visibility": null,
            "width": null
          }
        },
        "2572d4e464c0498a9623e021e6092670": {
          "model_module": "@jupyter-widgets/base",
          "model_module_version": "1.2.0",
          "model_name": "LayoutModel",
          "state": {
            "_model_module": "@jupyter-widgets/base",
            "_model_module_version": "1.2.0",
            "_model_name": "LayoutModel",
            "_view_count": null,
            "_view_module": "@jupyter-widgets/base",
            "_view_module_version": "1.2.0",
            "_view_name": "LayoutView",
            "align_content": null,
            "align_items": null,
            "align_self": null,
            "border": null,
            "bottom": null,
            "display": null,
            "flex": null,
            "flex_flow": null,
            "grid_area": null,
            "grid_auto_columns": null,
            "grid_auto_flow": null,
            "grid_auto_rows": null,
            "grid_column": null,
            "grid_gap": null,
            "grid_row": null,
            "grid_template_areas": null,
            "grid_template_columns": null,
            "grid_template_rows": null,
            "height": null,
            "justify_content": null,
            "justify_items": null,
            "left": null,
            "margin": null,
            "max_height": null,
            "max_width": null,
            "min_height": null,
            "min_width": null,
            "object_fit": null,
            "object_position": null,
            "order": null,
            "overflow": null,
            "overflow_x": null,
            "overflow_y": null,
            "padding": null,
            "right": null,
            "top": null,
            "visibility": null,
            "width": null
          }
        },
        "3e35f5ba3c99420e9ba0fa9f01c852dd": {
          "model_module": "@jupyter-widgets/controls",
          "model_module_version": "1.5.0",
          "model_name": "ProgressStyleModel",
          "state": {
            "_model_module": "@jupyter-widgets/controls",
            "_model_module_version": "1.5.0",
            "_model_name": "ProgressStyleModel",
            "_view_count": null,
            "_view_module": "@jupyter-widgets/base",
            "_view_module_version": "1.2.0",
            "_view_name": "StyleView",
            "bar_color": null,
            "description_width": ""
          }
        },
        "4c978b87a52543b992d467285f0a6864": {
          "model_module": "@jupyter-widgets/controls",
          "model_module_version": "1.5.0",
          "model_name": "DescriptionStyleModel",
          "state": {
            "_model_module": "@jupyter-widgets/controls",
            "_model_module_version": "1.5.0",
            "_model_name": "DescriptionStyleModel",
            "_view_count": null,
            "_view_module": "@jupyter-widgets/base",
            "_view_module_version": "1.2.0",
            "_view_name": "StyleView",
            "description_width": ""
          }
        },
        "6a54ac0dcfb140eda8dc9571b68ed109": {
          "model_module": "@jupyter-widgets/controls",
          "model_module_version": "1.5.0",
          "model_name": "HTMLModel",
          "state": {
            "_dom_classes": [],
            "_model_module": "@jupyter-widgets/controls",
            "_model_module_version": "1.5.0",
            "_model_name": "HTMLModel",
            "_view_count": null,
            "_view_module": "@jupyter-widgets/controls",
            "_view_module_version": "1.5.0",
            "_view_name": "HTMLView",
            "description": "",
            "description_tooltip": null,
            "layout": "IPY_MODEL_0d5ccdccd8b044c6a6a4d981d7ef4955",
            "placeholder": "​",
            "style": "IPY_MODEL_823332f6a7884c53b47eeac9cdb8f1a4",
            "value": " 240/240 [00:21&lt;00:00, 12.83it/s]"
          }
        },
        "823332f6a7884c53b47eeac9cdb8f1a4": {
          "model_module": "@jupyter-widgets/controls",
          "model_module_version": "1.5.0",
          "model_name": "DescriptionStyleModel",
          "state": {
            "_model_module": "@jupyter-widgets/controls",
            "_model_module_version": "1.5.0",
            "_model_name": "DescriptionStyleModel",
            "_view_count": null,
            "_view_module": "@jupyter-widgets/base",
            "_view_module_version": "1.2.0",
            "_view_name": "StyleView",
            "description_width": ""
          }
        },
        "c2590d5289d342ddbc86a9b5946f7568": {
          "model_module": "@jupyter-widgets/base",
          "model_module_version": "1.2.0",
          "model_name": "LayoutModel",
          "state": {
            "_model_module": "@jupyter-widgets/base",
            "_model_module_version": "1.2.0",
            "_model_name": "LayoutModel",
            "_view_count": null,
            "_view_module": "@jupyter-widgets/base",
            "_view_module_version": "1.2.0",
            "_view_name": "LayoutView",
            "align_content": null,
            "align_items": null,
            "align_self": null,
            "border": null,
            "bottom": null,
            "display": null,
            "flex": null,
            "flex_flow": null,
            "grid_area": null,
            "grid_auto_columns": null,
            "grid_auto_flow": null,
            "grid_auto_rows": null,
            "grid_column": null,
            "grid_gap": null,
            "grid_row": null,
            "grid_template_areas": null,
            "grid_template_columns": null,
            "grid_template_rows": null,
            "height": null,
            "justify_content": null,
            "justify_items": null,
            "left": null,
            "margin": null,
            "max_height": null,
            "max_width": null,
            "min_height": null,
            "min_width": null,
            "object_fit": null,
            "object_position": null,
            "order": null,
            "overflow": null,
            "overflow_x": null,
            "overflow_y": null,
            "padding": null,
            "right": null,
            "top": null,
            "visibility": null,
            "width": null
          }
        },
        "dcaede0d0e194486a2390922766e2fb1": {
          "model_module": "@jupyter-widgets/controls",
          "model_module_version": "1.5.0",
          "model_name": "HBoxModel",
          "state": {
            "_dom_classes": [],
            "_model_module": "@jupyter-widgets/controls",
            "_model_module_version": "1.5.0",
            "_model_name": "HBoxModel",
            "_view_count": null,
            "_view_module": "@jupyter-widgets/controls",
            "_view_module_version": "1.5.0",
            "_view_name": "HBoxView",
            "box_style": "",
            "children": [
              "IPY_MODEL_016a6366e40048ef87a88f7bc9f0dff7",
              "IPY_MODEL_0ce7aa1839914f41b92c6e523b508223",
              "IPY_MODEL_6a54ac0dcfb140eda8dc9571b68ed109"
            ],
            "layout": "IPY_MODEL_1fe1bd8f31474908804c0933d5ad1570"
          }
        }
      }
    }
  },
  "nbformat": 4,
  "nbformat_minor": 0
}
