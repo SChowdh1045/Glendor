{
  "cells": [
    {
      "cell_type": "code",
      "execution_count": null,
      "metadata": {
        "colab": {
          "base_uri": "https://localhost:8080/"
        },
        "collapsed": true,
        "id": "e7SlD7bV_ymV",
        "outputId": "9068be82-6768-46f7-afe5-abfef0d6a9e2"
      },
      "outputs": [],
      "source": [
        "%pip install ultralytics\n",
        "%pip install roboflow"
      ]
    },
    {
      "cell_type": "markdown",
      "metadata": {
        "id": "KA20cu63CV_b"
      },
      "source": [
        "## Got the dataset from here:  \n",
        "https://universe.roboflow.com/bachelor-thesis-ymaax/face-detection-operating-room/dataset/7/images?split=train"
      ]
    },
    {
      "cell_type": "code",
      "execution_count": null,
      "metadata": {
        "colab": {
          "base_uri": "https://localhost:8080/"
        },
        "id": "hlWBHwPr_-rn",
        "outputId": "83a6f390-d6b1-46ed-cd32-d707d45bf988"
      },
      "outputs": [],
      "source": [
        "from roboflow import Roboflow\n",
        "rf = Roboflow(api_key=\"QsT5gRKZeRi12T24N74T\")\n",
        "project = rf.workspace(\"bachelor-thesis-ymaax\").project(\"face-detection-operating-room\")\n",
        "version = project.version(7)\n",
        "dataset = version.download(\"yolov8\")"
      ]
    },
    {
      "cell_type": "code",
      "execution_count": null,
      "metadata": {
        "colab": {
          "base_uri": "https://localhost:8080/"
        },
        "id": "BV9D22UyAAHF",
        "outputId": "2748ea5a-18b5-4148-9d70-d3d5b3c365e5"
      },
      "outputs": [],
      "source": [
        "print(dataset.location)"
      ]
    },
    {
      "cell_type": "markdown",
      "metadata": {
        "id": "IJfod1r7BAhU"
      },
      "source": [
        "## You have to do this for whatever dumb reason"
      ]
    },
    {
      "cell_type": "code",
      "execution_count": null,
      "metadata": {
        "colab": {
          "base_uri": "https://localhost:8080/",
          "height": 36
        },
        "id": "yaoIdY1ZABi5",
        "outputId": "478872e0-70cb-484c-c5a1-1834f4c76611"
      },
      "outputs": [],
      "source": [
        "import shutil\n",
        "shutil.move(\"Face-Detection-(Operating-Room)-7/train\", \"Face-Detection-(Operating-Room)-7/Face-Detection-(Operating-Room)-7/train\")\n",
        "shutil.move(\"Face-Detection-(Operating-Room)-7/valid\", \"Face-Detection-(Operating-Room)-7/Face-Detection-(Operating-Room)-7/valid\")"
      ]
    },
    {
      "cell_type": "markdown",
      "metadata": {
        "id": "NPonDDKABhRK"
      },
      "source": [
        "## Have to do this because \"Face-Detection-(Operating-Room)-7\" has parentheses  \n",
        "*sigh*"
      ]
    },
    {
      "cell_type": "code",
      "execution_count": null,
      "metadata": {
        "id": "1HnVYh1GADA2"
      },
      "outputs": [],
      "source": [
        "import os\n",
        "data_yaml_path = os.path.join(dataset.location, \"data.yaml\")"
      ]
    },
    {
      "cell_type": "markdown",
      "metadata": {
        "id": "aAsdKqd7BsiP"
      },
      "source": [
        "## Before running this line, download the current data.yaml file and change this:  \n",
        "test: ../test/images  \n",
        "train: ../train/images  \n",
        "val: ../valid/images  \n",
        "<br>\n",
        "\n",
        "## To this:  \n",
        "test: Face-Detection-(Operating-Room)-7/test/images  \n",
        "train: Face-Detection-(Operating-Room)-7/train/images  \n",
        "val: Face-Detection-(Operating-Room)-7/valid/images  \n",
        "<br>\n",
        "\n",
        "## Or just upload the already modified data.yaml file from the local project directory"
      ]
    },
    {
      "cell_type": "code",
      "execution_count": null,
      "metadata": {
        "colab": {
          "base_uri": "https://localhost:8080/"
        },
        "collapsed": true,
        "id": "spEEl3bjAEoH",
        "outputId": "f4f27e7c-7704-479d-9781-f5bbca0a7f0c"
      },
      "outputs": [],
      "source": [
        "!yolo task=detect mode=train model=yolov8m.pt data=\"{data_yaml_path}\" epochs=100 batch=8 imgsz=640"
      ]
    },
    {
      "cell_type": "markdown",
      "metadata": {
        "id": "3Cq_T9spFwmo"
      },
      "source": [
        "## Why is it `data=\"{data_yaml_path}\"` and not `data=data_yaml_path`?\n",
        "<br>\n",
        "\n",
        "The `\"{data_yaml_path}\"` is needed because we're using it in a shell command (note the `!` at the start of the line). Let me break this down:\n",
        "\n",
        "```python\n",
        "data_yaml_path = os.path.join(dataset.location, \"data.yaml\")  # This is a Python string\n",
        "\n",
        "# These two lines would NOT work:\n",
        "!yolo task=detect data=data_yaml_path  # Shell sees 'data_yaml_path' as literal text\n",
        "!yolo task=detect data={data_yaml_path}  # Shell gets confused by unquoted { }\n",
        "\n",
        "# This works because:\n",
        "!yolo task=detect data=\"{data_yaml_path}\"  # Quotes handle spaces/special chars in path\n",
        "```\n",
        "\n",
        "When we use `!` in Jupyter/Colab, it's passing the command to the shell (bash). The shell needs:\n",
        "1. The entire path as one argument (quotes handle spaces and special characters)\n",
        "2. The Python variable's value (not its name)\n",
        "\n",
        "The curly brackets `{data_yaml_path}` tell Python to substitute the variable's value there, like an f-string, but it's actually part of IPython's syntax for variable substitution in shell commands.\n",
        "\n",
        "If we were calling this in pure Python (like using `subprocess`), we wouldn't need the quotes and braces:\n",
        "```python\n",
        "import subprocess\n",
        "subprocess.run(['yolo', 'task=detect', f'data={data_yaml_path}'])  # Pure Python way\n",
        "```"
      ]
    }
  ],
  "metadata": {
    "accelerator": "GPU",
    "colab": {
      "gpuType": "T4",
      "provenance": []
    },
    "kernelspec": {
      "display_name": "Python 3",
      "name": "python3"
    },
    "language_info": {
      "name": "python"
    }
  },
  "nbformat": 4,
  "nbformat_minor": 0
}
